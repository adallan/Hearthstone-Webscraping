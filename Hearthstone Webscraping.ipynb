{
 "cells": [
  {
   "cell_type": "code",
   "execution_count": 3,
   "id": "8249d2fd",
   "metadata": {},
   "outputs": [],
   "source": [
    "# Import libraries.\n",
    "import bs4\n",
    "import requests\n",
    "import re"
   ]
  },
  {
   "cell_type": "code",
   "execution_count": 4,
   "id": "88016eec",
   "metadata": {},
   "outputs": [],
   "source": [
    "results = requests.get('https://www.hearthstonetopdecks.com/card-category/set/expansions/march-of-the-lich-king/page/1/')"
   ]
  },
  {
   "cell_type": "code",
   "execution_count": 5,
   "id": "6e07ea33",
   "metadata": {},
   "outputs": [],
   "source": [
    "soup = bs4.BeautifulSoup(results.text,'lxml')"
   ]
  },
  {
   "cell_type": "code",
   "execution_count": 6,
   "id": "3c7528a8",
   "metadata": {},
   "outputs": [],
   "source": [
    "# Gathering card names.\n",
    "list1 = []\n",
    "for link in soup.find_all('a'):\n",
    "    list1.append(link.get('href'))"
   ]
  },
  {
   "cell_type": "code",
   "execution_count": 7,
   "id": "049b7d2a",
   "metadata": {},
   "outputs": [],
   "source": [
    "# Retrieving Ratings and votes.\n",
    "ratings = soup.find_all('div',{'class':'gdrts-rating-text'})"
   ]
  },
  {
   "cell_type": "code",
   "execution_count": 8,
   "id": "5d2bca36",
   "metadata": {},
   "outputs": [],
   "source": [
    "# Cleaning up card names.\n",
    "card_list = re.findall('https://www.hearthstonetopdecks.com/cards/\\w+\\W\\w+\\W\\w*',str(list1))"
   ]
  },
  {
   "cell_type": "code",
   "execution_count": 12,
   "id": "73fd41dd",
   "metadata": {},
   "outputs": [
    {
     "data": {
      "text/plain": [
       "58"
      ]
     },
     "execution_count": 12,
     "metadata": {},
     "output_type": "execute_result"
    }
   ],
   "source": [
    "len(card_list[0])"
   ]
  },
  {
   "cell_type": "code",
   "execution_count": 13,
   "id": "fa1665a4",
   "metadata": {},
   "outputs": [
    {
     "data": {
      "text/plain": [
       "'acolyte-of-death'"
      ]
     },
     "execution_count": 13,
     "metadata": {},
     "output_type": "execute_result"
    }
   ],
   "source": [
    "card_list[0][42::]"
   ]
  },
  {
   "cell_type": "code",
   "execution_count": 14,
   "id": "6595d040",
   "metadata": {},
   "outputs": [
    {
     "data": {
      "text/plain": [
       "'deal-with-a'"
      ]
     },
     "execution_count": 14,
     "metadata": {},
     "output_type": "execute_result"
    }
   ],
   "source": [
    "card_list[30][42::]"
   ]
  },
  {
   "cell_type": "code",
   "execution_count": 15,
   "id": "e3d2553d",
   "metadata": {},
   "outputs": [],
   "source": [
    "card_list = re.findall('https://www.hearthstonetopdecks.com/cards/\\w+\\W\\w+\\W\\w*\\W\\w*',str(list1))"
   ]
  },
  {
   "cell_type": "code",
   "execution_count": 16,
   "id": "932749d7",
   "metadata": {},
   "outputs": [
    {
     "data": {
      "text/plain": [
       "'Rating: <strong>4.7</strong>/5. From 118 votes'"
      ]
     },
     "execution_count": 16,
     "metadata": {},
     "output_type": "execute_result"
    }
   ],
   "source": [
    "# Testing cleaning ratings\n",
    "(str(ratings[10]))[45:-15:]"
   ]
  },
  {
   "cell_type": "code",
   "execution_count": 22,
   "id": "52c00553",
   "metadata": {},
   "outputs": [],
   "source": [
    "card1 = card_list[1][42::]+','+(str(rating_list[1]))[45:-15:]"
   ]
  },
  {
   "cell_type": "code",
   "execution_count": 209,
   "id": "d88e5f97",
   "metadata": {},
   "outputs": [
    {
     "data": {
      "text/plain": [
       "['https://www.hearthstonetopdecks.com/cards/acolyte-of-death/',\n",
       " \"https://www.hearthstonetopdecks.com/cards/alexandros-mograine/'\",\n",
       " \"https://www.hearthstonetopdecks.com/cards/amber-whelp/'\",\n",
       " \"https://www.hearthstonetopdecks.com/cards/amorphous-slime/'\",\n",
       " \"https://www.hearthstonetopdecks.com/cards/anachronos/',\",\n",
       " \"https://www.hearthstonetopdecks.com/cards/animate-dead/'\",\n",
       " \"https://www.hearthstonetopdecks.com/cards/anubrekhan/',\",\n",
       " \"https://www.hearthstonetopdecks.com/cards/arcane-bolt/'\",\n",
       " \"https://www.hearthstonetopdecks.com/cards/arcane-defenders/'\",\n",
       " \"https://www.hearthstonetopdecks.com/cards/arcane-quiver/'\",\n",
       " \"https://www.hearthstonetopdecks.com/cards/arcane-wyrm/'\",\n",
       " \"https://www.hearthstonetopdecks.com/cards/arcsplitter/',\",\n",
       " \"https://www.hearthstonetopdecks.com/cards/arms-dealer/'\",\n",
       " \"https://www.hearthstonetopdecks.com/cards/astalor-bloodsworn/'\",\n",
       " 'https://www.hearthstonetopdecks.com/cards/asvedon-the-grandshield/',\n",
       " \"https://www.hearthstonetopdecks.com/cards/banshee/',\",\n",
       " \"https://www.hearthstonetopdecks.com/cards/beetlemancy/',\",\n",
       " \"https://www.hearthstonetopdecks.com/cards/blazing-power/'\",\n",
       " \"https://www.hearthstonetopdecks.com/cards/blightblood-berserker/'\",\n",
       " \"https://www.hearthstonetopdecks.com/cards/blightfang/',\",\n",
       " \"https://www.hearthstonetopdecks.com/cards/blood-crusader/'\",\n",
       " 'https://www.hearthstonetopdecks.com/cards/blood-matriarch-liadrin/',\n",
       " \"https://www.hearthstonetopdecks.com/cards/bloodied-knight/'\",\n",
       " \"https://www.hearthstonetopdecks.com/cards/bone-flinger/'\",\n",
       " \"https://www.hearthstonetopdecks.com/cards/bonecaller/',\",\n",
       " \"https://www.hearthstonetopdecks.com/cards/boneguard-commander/'\",\n",
       " \"https://www.hearthstonetopdecks.com/cards/bonelord-frostwhisper/'\",\n",
       " \"https://www.hearthstonetopdecks.com/cards/brittleskin-zombie/'\",\n",
       " \"https://www.hearthstonetopdecks.com/cards/brutal-annihilan/'\",\n",
       " \"https://www.hearthstonetopdecks.com/cards/chitinous-plating/'\",\n",
       " \"https://www.hearthstonetopdecks.com/cards/concoctor/',\",\n",
       " \"https://www.hearthstonetopdecks.com/cards/conjured-arrow/'\",\n",
       " \"https://www.hearthstonetopdecks.com/cards/coroner/',\",\n",
       " \"https://www.hearthstonetopdecks.com/cards/corpse-explosion/'\",\n",
       " \"https://www.hearthstonetopdecks.com/cards/crypt-keeper/'\",\n",
       " \"https://www.hearthstonetopdecks.com/cards/crystal-broker/'\",\n",
       " \"https://www.hearthstonetopdecks.com/cards/crystalsmith-cultist/'\",\n",
       " \"https://www.hearthstonetopdecks.com/cards/daring-drake/'\",\n",
       " \"https://www.hearthstonetopdecks.com/cards/darkhan-drathir/'\",\n",
       " 'https://www.hearthstonetopdecks.com/cards/deal-with-a-devil',\n",
       " \"https://www.hearthstonetopdecks.com/cards/deathweaver-aura/'\",\n",
       " 'https://www.hearthstonetopdecks.com/cards/devourer-of-souls/',\n",
       " \"https://www.hearthstonetopdecks.com/cards/disruptive-spellbreaker/'\",\n",
       " \"https://www.hearthstonetopdecks.com/cards/drakkari-embalmer/'\",\n",
       " \"https://www.hearthstonetopdecks.com/cards/elder-nadox/'\",\n",
       " 'https://www.hearthstonetopdecks.com/cards/embers-of-strength/',\n",
       " \"https://www.hearthstonetopdecks.com/cards/enchanter/',\",\n",
       " \"https://www.hearthstonetopdecks.com/cards/energy-shaper/'\",\n",
       " \"https://www.hearthstonetopdecks.com/cards/eversong-portal/'\",\n",
       " 'https://www.hearthstonetopdecks.com/cards/feast-and-famine/',\n",
       " \"https://www.hearthstonetopdecks.com/cards/feldorei-warband/'\",\n",
       " 'https://www.hearthstonetopdecks.com/cards/felerin-the-forgotten/',\n",
       " \"https://www.hearthstonetopdecks.com/cards/fierce-outsider/'\",\n",
       " \"https://www.hearthstonetopdecks.com/cards/flesh-behemoth/'\",\n",
       " 'https://www.hearthstonetopdecks.com/cards/flight-of-the-bronze',\n",
       " \"https://www.hearthstonetopdecks.com/cards/for-quelthalas/'\",\n",
       " \"https://www.hearthstonetopdecks.com/cards/foul-egg/'\",\n",
       " 'https://www.hearthstonetopdecks.com/cards/from-de-other-side',\n",
       " \"https://www.hearthstonetopdecks.com/cards/ghostly-strike/'\",\n",
       " \"https://www.hearthstonetopdecks.com/cards/ghoulish-alchemist/'\",\n",
       " 'https://www.hearthstonetopdecks.com/cards/grand-magister-rommath/',\n",
       " \"https://www.hearthstonetopdecks.com/cards/grave-digging/'\",\n",
       " \"https://www.hearthstonetopdecks.com/cards/halduron-brightwing/'\",\n",
       " 'https://www.hearthstonetopdecks.com/cards/harkener-of-dread/',\n",
       " \"https://www.hearthstonetopdecks.com/cards/haunting-nightmare/'\",\n",
       " \"https://www.hearthstonetopdecks.com/cards/hawkstrider-rancher/'\",\n",
       " 'https://www.hearthstonetopdecks.com/cards/high-cultist-basaleph/',\n",
       " 'https://www.hearthstonetopdecks.com/cards/hope-of-quelthalas/',\n",
       " \"https://www.hearthstonetopdecks.com/cards/incorporeal-corporal/'\",\n",
       " \"https://www.hearthstonetopdecks.com/cards/infantry-reanimator/'\",\n",
       " \"https://www.hearthstonetopdecks.com/cards/infected-peasant/'\",\n",
       " \"https://www.hearthstonetopdecks.com/cards/infectious-ghoul/'\",\n",
       " \"https://www.hearthstonetopdecks.com/cards/invincible/',\",\n",
       " \"https://www.hearthstonetopdecks.com/cards/keeneye-spotter/'\",\n",
       " \"https://www.hearthstonetopdecks.com/cards/last-stand/'\",\n",
       " 'https://www.hearthstonetopdecks.com/cards/light-of-the-phoenix',\n",
       " \"https://www.hearthstonetopdecks.com/cards/lingering-zombie/'\",\n",
       " \"https://www.hearthstonetopdecks.com/cards/lorthemar-theron/'\",\n",
       " \"https://www.hearthstonetopdecks.com/cards/magisters-apprentice/'\",\n",
       " 'https://www.hearthstonetopdecks.com/cards/mark-of-scorn/',\n",
       " \"https://www.hearthstonetopdecks.com/cards/meat-grinder/'\",\n",
       " \"https://www.hearthstonetopdecks.com/cards/mind-eater/'\",\n",
       " \"https://www.hearthstonetopdecks.com/cards/necrotic-mortician/'\",\n",
       " \"https://www.hearthstonetopdecks.com/cards/nerubian-flyer/'\",\n",
       " \"https://www.hearthstonetopdecks.com/cards/nerubian-vizier/'\",\n",
       " \"https://www.hearthstonetopdecks.com/cards/noxious-infiltrator/'\",\n",
       " \"https://www.hearthstonetopdecks.com/cards/overlord-drakuru/'\",\n",
       " \"https://www.hearthstonetopdecks.com/cards/plaguespreader/',\",\n",
       " \"https://www.hearthstonetopdecks.com/cards/potion-belt/'\",\n",
       " \"https://www.hearthstonetopdecks.com/cards/potionmaster-putricide/'\",\n",
       " \"https://www.hearthstonetopdecks.com/cards/prescience/',\",\n",
       " \"https://www.hearthstonetopdecks.com/cards/prismatic-elemental/'\",\n",
       " \"https://www.hearthstonetopdecks.com/cards/ricochet-shot/'\",\n",
       " \"https://www.hearthstonetopdecks.com/cards/rotgill/',\",\n",
       " \"https://www.hearthstonetopdecks.com/cards/rotten-rodent/'\",\n",
       " \"https://www.hearthstonetopdecks.com/cards/sanctum-spellbender/'\",\n",
       " \"https://www.hearthstonetopdecks.com/cards/sanguine-soldier/'\",\n",
       " \"https://www.hearthstonetopdecks.com/cards/savage-ymirjar/'\",\n",
       " \"https://www.hearthstonetopdecks.com/cards/scourge-illusionist/'\",\n",
       " \"https://www.hearthstonetopdecks.com/cards/scourge-rager/'\",\n",
       " \"https://www.hearthstonetopdecks.com/cards/scourge-supplies/'\",\n",
       " \"https://www.hearthstonetopdecks.com/cards/scourge-tamer/'\",\n",
       " \"https://www.hearthstonetopdecks.com/cards/scourge-troll/'\",\n",
       " 'https://www.hearthstonetopdecks.com/cards/seal-of-blood/',\n",
       " 'https://www.hearthstonetopdecks.com/cards/shadow-of-demise/',\n",
       " \"https://www.hearthstonetopdecks.com/cards/shadow-suffusion/'\",\n",
       " 'https://www.hearthstonetopdecks.com/cards/shadow-word-undeath/',\n",
       " \"https://www.hearthstonetopdecks.com/cards/shallow-grave/'\",\n",
       " \"https://www.hearthstonetopdecks.com/cards/shatterskin-gargoyle/'\",\n",
       " \"https://www.hearthstonetopdecks.com/cards/shockspitter/',\",\n",
       " \"https://www.hearthstonetopdecks.com/cards/silverfury-stalwart/'\",\n",
       " \"https://www.hearthstonetopdecks.com/cards/silvermoon-arcanist/'\",\n",
       " \"https://www.hearthstonetopdecks.com/cards/silvermoon-armorer/'\",\n",
       " \"https://www.hearthstonetopdecks.com/cards/silvermoon-farstrider/'\",\n",
       " \"https://www.hearthstonetopdecks.com/cards/silvermoon-sentinel/'\",\n",
       " \"https://www.hearthstonetopdecks.com/cards/sister-svalna/'\",\n",
       " \"https://www.hearthstonetopdecks.com/cards/soul-barrage/'\",\n",
       " \"https://www.hearthstonetopdecks.com/cards/soulbreaker/',\",\n",
       " \"https://www.hearthstonetopdecks.com/cards/souleaters-scythe/'\",\n",
       " \"https://www.hearthstonetopdecks.com/cards/soulstealer/',\",\n",
       " \"https://www.hearthstonetopdecks.com/cards/street-sweeper/'\",\n",
       " \"https://www.hearthstonetopdecks.com/cards/sunfire-smithing/'\",\n",
       " \"https://www.hearthstonetopdecks.com/cards/sunfury-champion/'\",\n",
       " \"https://www.hearthstonetopdecks.com/cards/sunfury-clergy/'\",\n",
       " \"https://www.hearthstonetopdecks.com/cards/tenacious-sanlayn/'\",\n",
       " \"https://www.hearthstonetopdecks.com/cards/the-sunwell/'\",\n",
       " \"https://www.hearthstonetopdecks.com/cards/thoribelore/',\",\n",
       " \"https://www.hearthstonetopdecks.com/cards/timewarden/',\",\n",
       " \"https://www.hearthstonetopdecks.com/cards/translocation-instructor/'\",\n",
       " \"https://www.hearthstonetopdecks.com/cards/twisted-tether/'\",\n",
       " \"https://www.hearthstonetopdecks.com/cards/umbral-geist/'\",\n",
       " \"https://www.hearthstonetopdecks.com/cards/underking/',\",\n",
       " \"https://www.hearthstonetopdecks.com/cards/undying-allies/'\",\n",
       " \"https://www.hearthstonetopdecks.com/cards/unending-swarm/'\",\n",
       " \"https://www.hearthstonetopdecks.com/cards/unleash-fel/'\",\n",
       " \"https://www.hearthstonetopdecks.com/cards/unliving-champion/'\",\n",
       " \"https://www.hearthstonetopdecks.com/cards/vampiric-blood/'\",\n",
       " \"https://www.hearthstonetopdecks.com/cards/vast-wisdom/'\",\n",
       " \"https://www.hearthstonetopdecks.com/cards/vengeful-walloper/'\",\n",
       " \"https://www.hearthstonetopdecks.com/cards/vexallus/',\",\n",
       " \"https://www.hearthstonetopdecks.com/cards/vile-apothecary/'\",\n",
       " \"https://www.hearthstonetopdecks.com/cards/vrykul-necrolyte/'\",\n",
       " \"https://www.hearthstonetopdecks.com/cards/walking-dead/'\",\n",
       " \"https://www.hearthstonetopdecks.com/cards/wither/',\",\n",
       " \"https://www.hearthstonetopdecks.com/cards/wretched-exile/'\"]"
      ]
     },
     "execution_count": 209,
     "metadata": {},
     "output_type": "execute_result"
    }
   ],
   "source": [
    "card_list"
   ]
  },
  {
   "cell_type": "code",
   "execution_count": 208,
   "id": "6a8bc558",
   "metadata": {},
   "outputs": [],
   "source": [
    "# Creating lists for names, ratings and votes.\n",
    "card_list = []\n",
    "rating_list = []\n",
    "base_url = 'https://www.hearthstonetopdecks.com/card-category/set/expansions/march-of-the-lich-king/page/{}/'\n",
    "\n",
    "# n is page number, site contains 5 pages.\n",
    "for n in range(1,5):\n",
    "    \n",
    "    scrape_url = base_url.format(n)\n",
    "    res = requests.get(scrape_url)\n",
    "    soup = bs4.BeautifulSoup(res.text,'lxml')\n",
    "    card = []\n",
    "    for link in soup.find_all('a'):\n",
    "        card.append(link.get('href'))\n",
    "    card_list.extend(re.findall('https://www.hearthstonetopdecks.com/cards/\\w+\\W\\w*\\W\\w*\\W\\w*',str(card)))\n",
    "    rating_list.extend(soup.find_all('div',{'class':'gdrts-rating-text'}))"
   ]
  },
  {
   "cell_type": "code",
   "execution_count": 210,
   "id": "a92b5ee7",
   "metadata": {},
   "outputs": [],
   "source": [
    "# Cleaning card and rating lists.\n",
    "cards=[]\n",
    "rating=[]\n",
    "\n",
    "for x in range(0,145):\n",
    "    cards.append(card_list[x][42::])\n",
    "    rating.append((str(rating_list[x]))[45:-15:])"
   ]
  },
  {
   "cell_type": "code",
   "execution_count": 413,
   "id": "94bf9165",
   "metadata": {},
   "outputs": [],
   "source": [
    "# Writing data for first site to csv.\n",
    "import csv\n",
    "\n",
    "header = ['Card','Rating']\n",
    "data = [cards,rating]\n",
    "\n",
    "with open('Hearthstone_project_data.csv','w',newline='',encoding='UTF8') as f:\n",
    "    writing = csv.writer(f)\n",
    "    writing.writerow(header)\n",
    "    for n in range(0,145):\n",
    "        writing.writerow([cards[n],rating[n]])"
   ]
  },
  {
   "cell_type": "code",
   "execution_count": 193,
   "id": "a6ae29cd",
   "metadata": {},
   "outputs": [
    {
     "data": {
      "text/plain": [
       "['acolyte-of-death',\n",
       " 'alexandros-mograine/',\n",
       " 'amber-whelp/',\n",
       " 'amorphous-slime/',\n",
       " \"anachronos/'\",\n",
       " 'animate-dead/',\n",
       " \"anubrekhan/'\",\n",
       " 'arcane-bolt/',\n",
       " 'arcane-defenders/',\n",
       " 'arcane-quiver/',\n",
       " 'arcane-wyrm/',\n",
       " \"arcsplitter/'\",\n",
       " 'arms-dealer/',\n",
       " 'astalor-bloodsworn/',\n",
       " 'asvedon-the-grandshield',\n",
       " \"banshee/'\",\n",
       " \"beetlemancy/'\",\n",
       " 'blazing-power/',\n",
       " 'blightblood-berserker/',\n",
       " \"blightfang/'\",\n",
       " 'blood-crusader/',\n",
       " 'blood-matriarch-liadrin',\n",
       " 'bloodied-knight/',\n",
       " 'bone-flinger/',\n",
       " \"bonecaller/'\",\n",
       " 'boneguard-commander/',\n",
       " 'bonelord-frostwhisper/',\n",
       " 'brittleskin-zombie/',\n",
       " 'brutal-annihilan/',\n",
       " 'chitinous-plating/',\n",
       " \"concoctor/'\",\n",
       " 'conjured-arrow/',\n",
       " \"coroner/'\",\n",
       " 'corpse-explosion/',\n",
       " 'crypt-keeper/',\n",
       " 'crystal-broker/',\n",
       " 'crystalsmith-cultist/',\n",
       " 'daring-drake/',\n",
       " 'darkhan-drathir/',\n",
       " 'deal-with-a',\n",
       " 'deathweaver-aura/',\n",
       " 'devourer-of-souls',\n",
       " 'disruptive-spellbreaker/',\n",
       " 'drakkari-embalmer/',\n",
       " 'elder-nadox/',\n",
       " 'embers-of-strength',\n",
       " \"enchanter/'\",\n",
       " 'energy-shaper/',\n",
       " 'eversong-portal/',\n",
       " 'feast-and-famine',\n",
       " 'feldorei-warband/',\n",
       " 'felerin-the-forgotten',\n",
       " 'fierce-outsider/',\n",
       " 'flesh-behemoth/',\n",
       " 'flight-of-the',\n",
       " 'for-quelthalas/',\n",
       " 'foul-egg/',\n",
       " 'from-de-other',\n",
       " 'ghostly-strike/',\n",
       " 'ghoulish-alchemist/',\n",
       " 'grand-magister-rommath',\n",
       " 'grave-digging/',\n",
       " 'halduron-brightwing/',\n",
       " 'harkener-of-dread',\n",
       " 'haunting-nightmare/',\n",
       " 'hawkstrider-rancher/',\n",
       " 'high-cultist-basaleph',\n",
       " 'hope-of-quelthalas',\n",
       " 'incorporeal-corporal/',\n",
       " 'infantry-reanimator/',\n",
       " 'infected-peasant/',\n",
       " 'infectious-ghoul/',\n",
       " \"invincible/'\",\n",
       " 'keeneye-spotter/',\n",
       " 'last-stand/',\n",
       " 'light-of-the',\n",
       " 'lingering-zombie/',\n",
       " 'lorthemar-theron/',\n",
       " 'magisters-apprentice/',\n",
       " 'mark-of-scorn',\n",
       " 'meat-grinder/',\n",
       " 'mind-eater/',\n",
       " 'necrotic-mortician/',\n",
       " 'nerubian-flyer/',\n",
       " 'nerubian-vizier/',\n",
       " 'noxious-infiltrator/',\n",
       " 'overlord-drakuru/',\n",
       " \"plaguespreader/'\",\n",
       " 'potion-belt/',\n",
       " 'potionmaster-putricide/',\n",
       " \"prescience/'\",\n",
       " 'prismatic-elemental/',\n",
       " 'ricochet-shot/',\n",
       " \"rotgill/'\",\n",
       " 'rotten-rodent/',\n",
       " 'sanctum-spellbender/',\n",
       " 'sanguine-soldier/',\n",
       " 'savage-ymirjar/',\n",
       " 'scourge-illusionist/',\n",
       " 'scourge-rager/',\n",
       " 'scourge-supplies/',\n",
       " 'scourge-tamer/',\n",
       " 'scourge-troll/',\n",
       " 'seal-of-blood',\n",
       " 'shadow-of-demise',\n",
       " 'shadow-suffusion/',\n",
       " 'shadow-word-undeath',\n",
       " 'shallow-grave/',\n",
       " 'shatterskin-gargoyle/',\n",
       " \"shockspitter/'\",\n",
       " 'silverfury-stalwart/',\n",
       " 'silvermoon-arcanist/',\n",
       " 'silvermoon-armorer/',\n",
       " 'silvermoon-farstrider/',\n",
       " 'silvermoon-sentinel/',\n",
       " 'sister-svalna/',\n",
       " 'soul-barrage/',\n",
       " \"soulbreaker/'\",\n",
       " 'souleaters-scythe/',\n",
       " \"soulstealer/'\",\n",
       " 'street-sweeper/',\n",
       " 'sunfire-smithing/',\n",
       " 'sunfury-champion/',\n",
       " 'sunfury-clergy/',\n",
       " 'tenacious-sanlayn/',\n",
       " 'the-sunwell/',\n",
       " \"thoribelore/'\",\n",
       " \"timewarden/'\",\n",
       " 'translocation-instructor/',\n",
       " 'twisted-tether/',\n",
       " 'umbral-geist/',\n",
       " \"underking/'\",\n",
       " 'undying-allies/',\n",
       " 'unending-swarm/',\n",
       " 'unleash-fel/',\n",
       " 'unliving-champion/',\n",
       " 'vampiric-blood/',\n",
       " 'vast-wisdom/',\n",
       " 'vengeful-walloper/',\n",
       " \"vexallus/'\",\n",
       " 'vile-apothecary/',\n",
       " 'vrykul-necrolyte/',\n",
       " 'walking-dead/',\n",
       " \"wither/'\",\n",
       " 'wretched-exile/']"
      ]
     },
     "execution_count": 193,
     "metadata": {},
     "output_type": "execute_result"
    }
   ],
   "source": [
    "cards"
   ]
  },
  {
   "cell_type": "code",
   "execution_count": 249,
   "id": "ded332ee",
   "metadata": {},
   "outputs": [],
   "source": [
    "import string\n",
    "\n",
    "string=','.join(x for x in cleaned_cards)"
   ]
  },
  {
   "cell_type": "code",
   "execution_count": 245,
   "id": "07f0adf7",
   "metadata": {},
   "outputs": [],
   "source": [
    "# Removing punctuation from card list to use for filtering card statistics for 2nd site.\n",
    "def remove_punct(string):\n",
    "    punct = '''!()[]{};:'\"\\, <>/?@#$%^&*~'''\n",
    "    for x in string:\n",
    "        if x in punct:\n",
    "            string = string.replace(x,\"\")\n",
    "    return string\n",
    "    \n",
    "cleaned_cards = [remove_punct(y) for y in cards]"
   ]
  },
  {
   "cell_type": "code",
   "execution_count": 246,
   "id": "e0cd1107",
   "metadata": {},
   "outputs": [],
   "source": [
    "string=''.join(x for x in string if x not in punct)"
   ]
  },
  {
   "cell_type": "code",
   "execution_count": 247,
   "id": "36362a9c",
   "metadata": {},
   "outputs": [
    {
     "data": {
      "text/plain": [
       "['acolyte-of-death',\n",
       " 'alexandros-mograine',\n",
       " 'amber-whelp',\n",
       " 'amorphous-slime',\n",
       " 'anachronos',\n",
       " 'animate-dead',\n",
       " 'anubrekhan',\n",
       " 'arcane-bolt',\n",
       " 'arcane-defenders',\n",
       " 'arcane-quiver',\n",
       " 'arcane-wyrm',\n",
       " 'arcsplitter',\n",
       " 'arms-dealer',\n",
       " 'astalor-bloodsworn',\n",
       " 'asvedon-the-grandshield',\n",
       " 'banshee',\n",
       " 'beetlemancy',\n",
       " 'blazing-power',\n",
       " 'blightblood-berserker',\n",
       " 'blightfang',\n",
       " 'blood-crusader',\n",
       " 'blood-matriarch-liadrin',\n",
       " 'bloodied-knight',\n",
       " 'bone-flinger',\n",
       " 'bonecaller',\n",
       " 'boneguard-commander',\n",
       " 'bonelord-frostwhisper',\n",
       " 'brittleskin-zombie',\n",
       " 'brutal-annihilan',\n",
       " 'chitinous-plating',\n",
       " 'concoctor',\n",
       " 'conjured-arrow',\n",
       " 'coroner',\n",
       " 'corpse-explosion',\n",
       " 'crypt-keeper',\n",
       " 'crystal-broker',\n",
       " 'crystalsmith-cultist',\n",
       " 'daring-drake',\n",
       " 'darkhan-drathir',\n",
       " 'deal-with-a-devil',\n",
       " 'deathweaver-aura',\n",
       " 'devourer-of-souls',\n",
       " 'disruptive-spellbreaker',\n",
       " 'drakkari-embalmer',\n",
       " 'elder-nadox',\n",
       " 'embers-of-strength',\n",
       " 'enchanter',\n",
       " 'energy-shaper',\n",
       " 'eversong-portal',\n",
       " 'feast-and-famine',\n",
       " 'feldorei-warband',\n",
       " 'felerin-the-forgotten',\n",
       " 'fierce-outsider',\n",
       " 'flesh-behemoth',\n",
       " 'flight-of-the-bronze',\n",
       " 'for-quelthalas',\n",
       " 'foul-egg',\n",
       " 'from-de-other-side',\n",
       " 'ghostly-strike',\n",
       " 'ghoulish-alchemist',\n",
       " 'grand-magister-rommath',\n",
       " 'grave-digging',\n",
       " 'halduron-brightwing',\n",
       " 'harkener-of-dread',\n",
       " 'haunting-nightmare',\n",
       " 'hawkstrider-rancher',\n",
       " 'high-cultist-basaleph',\n",
       " 'hope-of-quelthalas',\n",
       " 'incorporeal-corporal',\n",
       " 'infantry-reanimator',\n",
       " 'infected-peasant',\n",
       " 'infectious-ghoul',\n",
       " 'invincible',\n",
       " 'keeneye-spotter',\n",
       " 'last-stand',\n",
       " 'light-of-the-phoenix',\n",
       " 'lingering-zombie',\n",
       " 'lorthemar-theron',\n",
       " 'magisters-apprentice',\n",
       " 'mark-of-scorn',\n",
       " 'meat-grinder',\n",
       " 'mind-eater',\n",
       " 'necrotic-mortician',\n",
       " 'nerubian-flyer',\n",
       " 'nerubian-vizier',\n",
       " 'noxious-infiltrator',\n",
       " 'overlord-drakuru',\n",
       " 'plaguespreader',\n",
       " 'potion-belt',\n",
       " 'potionmaster-putricide',\n",
       " 'prescience',\n",
       " 'prismatic-elemental',\n",
       " 'ricochet-shot',\n",
       " 'rotgill',\n",
       " 'rotten-rodent',\n",
       " 'sanctum-spellbender',\n",
       " 'sanguine-soldier',\n",
       " 'savage-ymirjar',\n",
       " 'scourge-illusionist',\n",
       " 'scourge-rager',\n",
       " 'scourge-supplies',\n",
       " 'scourge-tamer',\n",
       " 'scourge-troll',\n",
       " 'seal-of-blood',\n",
       " 'shadow-of-demise',\n",
       " 'shadow-suffusion',\n",
       " 'shadow-word-undeath',\n",
       " 'shallow-grave',\n",
       " 'shatterskin-gargoyle',\n",
       " 'shockspitter',\n",
       " 'silverfury-stalwart',\n",
       " 'silvermoon-arcanist',\n",
       " 'silvermoon-armorer',\n",
       " 'silvermoon-farstrider',\n",
       " 'silvermoon-sentinel',\n",
       " 'sister-svalna',\n",
       " 'soul-barrage',\n",
       " 'soulbreaker',\n",
       " 'souleaters-scythe',\n",
       " 'soulstealer',\n",
       " 'street-sweeper',\n",
       " 'sunfire-smithing',\n",
       " 'sunfury-champion',\n",
       " 'sunfury-clergy',\n",
       " 'tenacious-sanlayn',\n",
       " 'the-sunwell',\n",
       " 'thoribelore',\n",
       " 'timewarden',\n",
       " 'translocation-instructor',\n",
       " 'twisted-tether',\n",
       " 'umbral-geist',\n",
       " 'underking',\n",
       " 'undying-allies',\n",
       " 'unending-swarm',\n",
       " 'unleash-fel',\n",
       " 'unliving-champion',\n",
       " 'vampiric-blood',\n",
       " 'vast-wisdom',\n",
       " 'vengeful-walloper',\n",
       " 'vexallus',\n",
       " 'vile-apothecary',\n",
       " 'vrykul-necrolyte',\n",
       " 'walking-dead',\n",
       " 'wither',\n",
       " 'wretched-exile']"
      ]
     },
     "execution_count": 247,
     "metadata": {},
     "output_type": "execute_result"
    }
   ],
   "source": [
    "cleaned_cards"
   ]
  },
  {
   "cell_type": "code",
   "execution_count": 250,
   "id": "e345985b",
   "metadata": {},
   "outputs": [
    {
     "data": {
      "text/plain": [
       "'acolyte-of-death,alexandros-mograine,amber-whelp,amorphous-slime,anachronos,animate-dead,anubrekhan,arcane-bolt,arcane-defenders,arcane-quiver,arcane-wyrm,arcsplitter,arms-dealer,astalor-bloodsworn,asvedon-the-grandshield,banshee,beetlemancy,blazing-power,blightblood-berserker,blightfang,blood-crusader,blood-matriarch-liadrin,bloodied-knight,bone-flinger,bonecaller,boneguard-commander,bonelord-frostwhisper,brittleskin-zombie,brutal-annihilan,chitinous-plating,concoctor,conjured-arrow,coroner,corpse-explosion,crypt-keeper,crystal-broker,crystalsmith-cultist,daring-drake,darkhan-drathir,deal-with-a-devil,deathweaver-aura,devourer-of-souls,disruptive-spellbreaker,drakkari-embalmer,elder-nadox,embers-of-strength,enchanter,energy-shaper,eversong-portal,feast-and-famine,feldorei-warband,felerin-the-forgotten,fierce-outsider,flesh-behemoth,flight-of-the-bronze,for-quelthalas,foul-egg,from-de-other-side,ghostly-strike,ghoulish-alchemist,grand-magister-rommath,grave-digging,halduron-brightwing,harkener-of-dread,haunting-nightmare,hawkstrider-rancher,high-cultist-basaleph,hope-of-quelthalas,incorporeal-corporal,infantry-reanimator,infected-peasant,infectious-ghoul,invincible,keeneye-spotter,last-stand,light-of-the-phoenix,lingering-zombie,lorthemar-theron,magisters-apprentice,mark-of-scorn,meat-grinder,mind-eater,necrotic-mortician,nerubian-flyer,nerubian-vizier,noxious-infiltrator,overlord-drakuru,plaguespreader,potion-belt,potionmaster-putricide,prescience,prismatic-elemental,ricochet-shot,rotgill,rotten-rodent,sanctum-spellbender,sanguine-soldier,savage-ymirjar,scourge-illusionist,scourge-rager,scourge-supplies,scourge-tamer,scourge-troll,seal-of-blood,shadow-of-demise,shadow-suffusion,shadow-word-undeath,shallow-grave,shatterskin-gargoyle,shockspitter,silverfury-stalwart,silvermoon-arcanist,silvermoon-armorer,silvermoon-farstrider,silvermoon-sentinel,sister-svalna,soul-barrage,soulbreaker,souleaters-scythe,soulstealer,street-sweeper,sunfire-smithing,sunfury-champion,sunfury-clergy,tenacious-sanlayn,the-sunwell,thoribelore,timewarden,translocation-instructor,twisted-tether,umbral-geist,underking,undying-allies,unending-swarm,unleash-fel,unliving-champion,vampiric-blood,vast-wisdom,vengeful-walloper,vexallus,vile-apothecary,vrykul-necrolyte,walking-dead,wither,wretched-exile'"
      ]
     },
     "execution_count": 250,
     "metadata": {},
     "output_type": "execute_result"
    }
   ],
   "source": [
    "# Card string for 2nd sites filter.\n",
    "string"
   ]
  },
  {
   "cell_type": "code",
   "execution_count": 251,
   "id": "bd2f35b4",
   "metadata": {},
   "outputs": [],
   "source": [
    "# Breaking card string into four parts for easier scrapping later on.\n",
    "url1 = 'https://hsreplay.net/cards/#showSparse=yes&sortBy=card&sortDirection=ascending&text=acolyte-of-death%2Calexandros-mograine%2Camber-whelp%2Camorphous-slime%2Canachronos%2Canimate-dead%2Canubrekhan%2Carcane-bolt%2Carcane-defenders%2Carcane-quiver%2Carcane-wyrm%2Carcsplitter%2Carms-dealer%2Castalor-bloodsworn%2Casvedon-the-grandshield%2Cbanshee%2Cbeetlemancy%2Cblazing-power%2Cblightblood-berserker%2Cblightfang%2Cblood-crusader%2Cblood-matriarch-liadrin%2Cbloodied-knight%2Cbone-flinger%2Cbonecaller%2Cboneguard-commander%2Cbonelord-frostwhisper%2Cbrittleskin-zombie%2Cbrutal-annihilan%2Cchitinous-plating%2Cconcoctor%2Cconjured-arrow%2Ccoroner%2Ccorpse-explosion%2Ccrypt-keeper%2Ccrystal-broker%2Ccrystalsmith-cultist%2Cdaring-drake%2Cdarkhan-drathir%2Cdeal-with-a-devil%2Cdeathweaver-aura%2Cdevourer-of-souls%2Cdisruptive-spellbreaker%2Cdrakkari-embalmer%2Celder-nadox%2Cembers-of-strength%2Cenchanter%2Cenergy-shaper%2Ceversong-portal'\n",
    "url2 = 'https://hsreplay.net/cards/#showSparse=yes&sortBy=card&sortDirection=ascending&text=feast-and-famine%2Cfeldorei-warband%2Cfelerin-the-forgotten%2Cfierce-outsider%2Cflesh-behemoth%2Cflight-of-the-bronze%2Cfor-quelthalas%2Cfoul-egg%2Cfrom-de-other-side%2Cghostly-strike%2Cghoulish-alchemist%2Cgrand-magister-rommath%2Cgrave-digging%2Chalduron-brightwing%2Charkener-of-dread%2Chaunting-nightmare%2Chawkstrider-rancher%2Chigh-cultist-basaleph%2Chope-of-quelthalas%2Cincorporeal-corporal%2Cinfantry-reanimator%2Cinfected-peasant%2Cinfectious-ghoul%2Cinvincible%2Ckeeneye-spotter%2Clast-stand%2Clight-of-the-phoenix%2Clingering-zombie%2Clorthemar-theron%2Cmagisters-apprentice%2Cmark-of-scorn%2Cmeat-grinder%2Cmind-eater%2Cnecrotic-mortician%2Cnerubian-flyer%2Cnerubian-vizier%2Cnoxious-infiltrator'\n",
    "url3 = 'https://hsreplay.net/cards/#showSparse=yes&sortBy=card&sortDirection=ascending&text=overlord-drakuru%2Cplaguespreader%2Cpotion-belt%2Cpotionmaster-putricide%2Cprescience%2Cprismatic-elemental%2Cricochet-shot%2Crotgill%2Crotten-rodent%2Csanctum-spellbender%2Csanguine-soldier%2Csavage-ymirjar%2Cscourge-illusionist%2Cscourge-rager%2Cscourge-supplies%2Cscourge-tamer%2Cscourge-troll%2Cseal-of-blood%2Cshadow-of-demise%2Cshadow-suffusion%2Cshadow-word-undeath%2Cshallow-grave%2Cshatterskin-gargoyle%2Cshockspitter%2Csilverfury-stalwart%2Csilvermoon-arcanist%2Csilvermoon-armorer%2Csilvermoon-farstrider%2Csilvermoon-sentinel%2Csister-svalna%2Csoul-barrage%2Csoulbreaker'\n",
    "url4 = 'https://hsreplay.net/cards/#text=souleaters-scythe%2Csoulstealer%2Cstreet-sweeper%2Csunfire-smithing%2Csunfury-champion%2Csunfury-clergy%2Ctenacious-sanlayn%2Cthe-sunwell%2Cthoribelore%2Ctimewarden%2Ctranslocation-instructor%2Ctwisted-tether%2Cumbral-geist%2Cunderking%2Cundying-allies%2Cunending-swarm%2Cunleash-fel%2Cunliving-champion%2Cvampiric-blood%2Cvast-wisdom%2Cvengeful-walloper%2Cvexallus%2Cvile-apothecary%2Cvrykul-necrolyte%2Cwalking-dead%2Cwither%2Cwretched-exile'"
   ]
  },
  {
   "cell_type": "code",
   "execution_count": 286,
   "id": "61383445",
   "metadata": {},
   "outputs": [],
   "source": [
    "# Fixed first and last url issues that had missing commas.\n",
    "url1 = 'https://hsreplay.net/cards/#showSparse=yes&sortBy=card&sortDirection=ascending&text=acolyte-of-death%2Calexandros-mograine%2Camber-whelp%2Camorphous-slime%2Canachronos%2Canimate-dead%2Canubrekhan%2Carcane-bolt%2Carcane-defenders%2Carcane-quiver%2Carcane-wyrm%2Carcsplitter%2Carms-dealer%2Castalor-bloodsworn%2Casvedon-the-grandshield%2Cbanshee%2Cbeetlemancy%2Cblazing-power%2Cblightblood-berserker%2Cblightfang%2Cblood-crusader%2Cblood-matriarch-liadrin%2Cbloodied-knight%2Cbone-flinger%2Cbonecaller%2Cboneguard-commander%2Cbonelord-frostwhisper%2Cbrittleskin-zombie%2Cbrutal-annihilan%2Cchitinous-plating%2Cconcoctor%2Cconjured-arrow%2Ccoroner%2Ccorpse-explosion%2Ccrypt-keeper%2Ccrystal-broker%2Ccrystalsmith-cultist%2Cdaring-drake%2Cdarkhan-drathir%2Cdeal-with-a-devil%2Cdeathweaver-aura%2Cdevourer-of-souls%2Cdisruptive-spellbreaker%2Cdrakkari-embalmer%2Celder-nadox%2Cembers-of-strength%2Cenchanter'\n",
    "url4 = 'https://hsreplay.net/cards/#text=energy-shaper%2Ceversong-portal%2Csouleaters-scythe%2Csoulstealer%2Cstreet-sweeper%2Csunfire-smithing%2Csunfury-champion%2Csunfury-clergy%2Ctenacious-sanlayn%2Cthe-sunwell%2Cthoribelore%2Ctimewarden%2Ctranslocation-instructor%2Ctwisted-tether%2Cumbral-geist%2Cunderking%2Cundying-allies%2Cunending-swarm%2Cunleash-fel%2Cunliving-champion%2Cvampiric-blood%2Cvast-wisdom%2Cvengeful-walloper%2Cvexallus%2Cvile-apothecary%2Cvrykul-necrolyte%2Cwalking-dead%2Cwither%2Cwretched-exile&showSparse=yes'"
   ]
  },
  {
   "cell_type": "code",
   "execution_count": 253,
   "id": "9e9a8b39",
   "metadata": {},
   "outputs": [],
   "source": [
    "import urllib"
   ]
  },
  {
   "cell_type": "code",
   "execution_count": 254,
   "id": "70d30809",
   "metadata": {},
   "outputs": [],
   "source": [
    "import time \n",
    " \n",
    "import pandas as pd \n",
    "from selenium import webdriver \n",
    "from selenium.webdriver import Chrome \n",
    "from selenium.webdriver.chrome.service import Service \n",
    "from selenium.webdriver.common.by import By \n",
    "from webdriver_manager.chrome import ChromeDriverManager"
   ]
  },
  {
   "cell_type": "code",
   "execution_count": 428,
   "id": "d1aa6a31",
   "metadata": {
    "scrolled": true
   },
   "outputs": [
    {
     "name": "stderr",
     "output_type": "stream",
     "text": [
      "[WDM] - Downloading: 100%|█████████████████| 8.72M/8.72M [00:00<00:00, 16.1MB/s]\n"
     ]
    }
   ],
   "source": [
    "# Defining the options for headless browser.\n",
    "options = webdriver.ChromeOptions() \n",
    "options.headless = True \n",
    "options.add_argument(\"window-size=1920,1980\")\n",
    "options.add_argument('--disable-blink-features=AutomationControlled')\n",
    "options.add_argument(\"--no-sandbox\")\n",
    "options.add_argument(\"disable-infobars\")\n",
    "options.add_argument(\"--disable-extensions\")\n",
    "options.add_argument(\"--disable-dev-shm-usage\")\n",
    "# Selenium waits for all resources to download .\n",
    "# We don't need it as the page also populated with the running javascript code. \n",
    "options.page_load_strategy = 'none' \n",
    "# Returns the path web driver downloaded.\n",
    "chrome_path = ChromeDriverManager().install() \n",
    "chrome_service = Service(chrome_path) \n",
    "# Pass the defined options and service to initialize the web driver.\n",
    "driver = Chrome(options=options, service=chrome_service) \n",
    "driver.implicitly_wait(5)"
   ]
  },
  {
   "cell_type": "code",
   "execution_count": 289,
   "id": "8bada9d3",
   "metadata": {},
   "outputs": [],
   "source": [
    "driver.get(url1) \n",
    "time.sleep(10)\n",
    "SCROLL_PAUSE_TIME = 0.5\n",
    "\n",
    "for x in range(0,3):\n",
    "    # Scroll down to bottom.\n",
    "    driver.execute_script(\"window.scrollTo(0, document.body.scrollHeight);\")\n",
    "\n",
    "    # Wait to load page.\n",
    "    time.sleep(SCROLL_PAUSE_TIME)\n",
    "    driver.execute_script(\"return document.body.scrollHeight\")\n",
    "\n",
    "soup2= bs4.BeautifulSoup(driver.page_source,'lxml')"
   ]
  },
  {
   "cell_type": "code",
   "execution_count": 260,
   "id": "c0e65425",
   "metadata": {},
   "outputs": [],
   "source": [
    "driver.get(url2) \n",
    "time.sleep(10)\n",
    "SCROLL_PAUSE_TIME = 0.5\n",
    "\n",
    "for x in range(0,3):\n",
    "    # Scroll down to bottom\n",
    "    driver.execute_script(\"window.scrollTo(0, document.body.scrollHeight);\")\n",
    "\n",
    "    # Wait to load page\n",
    "    time.sleep(SCROLL_PAUSE_TIME)\n",
    "    driver.execute_script(\"return document.body.scrollHeight\")\n",
    "\n",
    "soup3= bs4.BeautifulSoup(driver.page_source,'lxml')"
   ]
  },
  {
   "cell_type": "code",
   "execution_count": 261,
   "id": "63304a08",
   "metadata": {},
   "outputs": [],
   "source": [
    "driver.get(url3) \n",
    "time.sleep(10)\n",
    "SCROLL_PAUSE_TIME = 0.5\n",
    "\n",
    "for x in range(0,3):\n",
    "    # Scroll down to bottom\n",
    "    driver.execute_script(\"window.scrollTo(0, document.body.scrollHeight);\")\n",
    "\n",
    "    # Wait to load page\n",
    "    time.sleep(SCROLL_PAUSE_TIME)\n",
    "    driver.execute_script(\"return document.body.scrollHeight\")\n",
    "\n",
    "soup4= bs4.BeautifulSoup(driver.page_source,'lxml')"
   ]
  },
  {
   "cell_type": "code",
   "execution_count": 290,
   "id": "c9e7bb48",
   "metadata": {},
   "outputs": [],
   "source": [
    "driver.get(url4) \n",
    "time.sleep(10)\n",
    "SCROLL_PAUSE_TIME = 0.5\n",
    "\n",
    "for x in range(0,3):\n",
    "    # Scroll down to bottom\n",
    "    driver.execute_script(\"window.scrollTo(0, document.body.scrollHeight);\")\n",
    "\n",
    "    # Wait to load page\n",
    "    time.sleep(SCROLL_PAUSE_TIME)\n",
    "    driver.execute_script(\"return document.body.scrollHeight\")\n",
    "\n",
    "soup5= bs4.BeautifulSoup(driver.page_source,'lxml')"
   ]
  },
  {
   "cell_type": "code",
   "execution_count": 383,
   "id": "e7b21e85",
   "metadata": {},
   "outputs": [
    {
     "data": {
      "text/plain": [
       "[<div aria-describedby=\"table1-row25 table1-column0\" class=\"table-cell\" role=\"gridcell\" style=\"height: 36px; left: 0px; position: absolute; top: 900px; width: 340.75px; line-height: 36px;\">0.10%</div>]"
      ]
     },
     "execution_count": 383,
     "metadata": {},
     "output_type": "execute_result"
    }
   ],
   "source": [
    "# Testing table range for each url pages.\n",
    "soup5.find_all('div',{'aria-describedby':'table1-row25 table1-column0'})"
   ]
  },
  {
   "cell_type": "code",
   "execution_count": 399,
   "id": "41d43c64",
   "metadata": {},
   "outputs": [],
   "source": [
    "# Scrapping each url's table columns.\n",
    "column0 = []\n",
    "for num in range(0,47):\n",
    "    column0.extend(soup2.find('div',{'aria-describedby':f'table1-row{num} table1-column0'}))\n",
    "for num in range(0,31):\n",
    "    column0.extend(soup3.find('div',{'aria-describedby':f'table1-row{num} table1-column0'}))\n",
    "for num in range(0,33):\n",
    "    column0.extend(soup4.find('div',{'aria-describedby':f'table1-row{num} table1-column0'}))\n",
    "for num in range(0,26):\n",
    "    column0.extend(soup5.find('div',{'aria-describedby':f'table1-row{num} table1-column0'}))"
   ]
  },
  {
   "cell_type": "code",
   "execution_count": 400,
   "id": "3a1105be",
   "metadata": {},
   "outputs": [],
   "source": [
    "column1 = []\n",
    "for num in range(0,47):\n",
    "    column1.extend(soup2.find('div',{'aria-describedby':f'table1-row{num} table1-column1'}))\n",
    "for num in range(0,31):\n",
    "    column1.extend(soup3.find('div',{'aria-describedby':f'table1-row{num} table1-column1'}))\n",
    "for num in range(0,33):\n",
    "    column1.extend(soup4.find('div',{'aria-describedby':f'table1-row{num} table1-column1'}))\n",
    "for num in range(0,26):\n",
    "    column1.extend(soup5.find('div',{'aria-describedby':f'table1-row{num} table1-column1'}))"
   ]
  },
  {
   "cell_type": "code",
   "execution_count": 401,
   "id": "4ced2a86",
   "metadata": {},
   "outputs": [],
   "source": [
    "column2 = []\n",
    "for num in range(0,47):\n",
    "    column2.extend(soup2.find('div',{'aria-describedby':f'table1-row{num} table1-column2'}))\n",
    "for num in range(0,31):\n",
    "    column2.extend(soup3.find('div',{'aria-describedby':f'table1-row{num} table1-column2'}))\n",
    "for num in range(0,33):\n",
    "    column2.extend(soup4.find('div',{'aria-describedby':f'table1-row{num} table1-column2'}))\n",
    "for num in range(0,26):\n",
    "    column2.extend(soup5.find('div',{'aria-describedby':f'table1-row{num} table1-column2'}))"
   ]
  },
  {
   "cell_type": "code",
   "execution_count": 402,
   "id": "a6387617",
   "metadata": {},
   "outputs": [],
   "source": [
    "column3 = []\n",
    "for num in range(0,47):\n",
    "    column3.extend(soup2.find('div',{'aria-describedby':f'table1-row{num} table1-column3'}))\n",
    "for num in range(0,31):\n",
    "    column3.extend(soup3.find('div',{'aria-describedby':f'table1-row{num} table1-column3'}))\n",
    "for num in range(0,33):\n",
    "    column3.extend(soup4.find('div',{'aria-describedby':f'table1-row{num} table1-column3'}))\n",
    "for num in range(0,26):\n",
    "    column3.extend(soup5.find('div',{'aria-describedby':f'table1-row{num} table1-column3'}))"
   ]
  },
  {
   "cell_type": "code",
   "execution_count": 410,
   "id": "0d4135ca",
   "metadata": {},
   "outputs": [
    {
     "data": {
      "text/plain": [
       "137"
      ]
     },
     "execution_count": 410,
     "metadata": {},
     "output_type": "execute_result"
    }
   ],
   "source": [
    "len(column3)"
   ]
  },
  {
   "cell_type": "code",
   "execution_count": 53,
   "id": "25eb3460",
   "metadata": {},
   "outputs": [
    {
     "data": {
      "text/plain": [
       "['2.3%']"
      ]
     },
     "execution_count": 53,
     "metadata": {},
     "output_type": "execute_result"
    }
   ],
   "source": [
    "re.findall('\\d\\W\\d\\W',str(t1row1))"
   ]
  },
  {
   "cell_type": "code",
   "execution_count": 314,
   "id": "adcc94ea",
   "metadata": {},
   "outputs": [
    {
     "data": {
      "text/plain": [
       "[<div aria-describedby=\"table1-row25 table1-column0\" class=\"table-cell\" role=\"gridcell\" style=\"height: 36px; left: 0px; position: absolute; top: 900px; width: 340.75px; line-height: 36px;\">0.10%</div>]"
      ]
     },
     "execution_count": 314,
     "metadata": {},
     "output_type": "execute_result"
    }
   ],
   "source": [
    "soup5.find_all('div',{'aria-describedby':'table1-row25 table1-column0'})"
   ]
  },
  {
   "cell_type": "code",
   "execution_count": 316,
   "id": "a45eec91",
   "metadata": {},
   "outputs": [],
   "source": [
    "# Finds card names on 2nd site.\n",
    "card_names = soup2.find_all('figcaption')"
   ]
  },
  {
   "cell_type": "code",
   "execution_count": 326,
   "id": "7344279b",
   "metadata": {},
   "outputs": [],
   "source": [
    "# Extending card name list for each soup.\n",
    "card_names.extend(soup3.find_all('figcaption'))\n",
    "card_names.extend(soup4.find_all('figcaption'))\n",
    "card_names.extend(soup5.find_all('figcaption'))"
   ]
  },
  {
   "cell_type": "code",
   "execution_count": 334,
   "id": "1cbcfcef",
   "metadata": {},
   "outputs": [],
   "source": [
    "# Casting list to card names returns just the card name for easy cleaning.\n",
    "card_name_list = []\n",
    "\n",
    "for x in range(0,137):\n",
    "    card_name_list.append(list(card_names[x]))"
   ]
  },
  {
   "cell_type": "code",
   "execution_count": 422,
   "id": "9cdd9639",
   "metadata": {},
   "outputs": [
    {
     "data": {
      "text/plain": [
       "['Walking Dead']"
      ]
     },
     "execution_count": 422,
     "metadata": {},
     "output_type": "execute_result"
    }
   ],
   "source": [
    "card_name_list[136]"
   ]
  },
  {
   "cell_type": "code",
   "execution_count": 423,
   "id": "be5c53e3",
   "metadata": {},
   "outputs": [],
   "source": [
    "# Final csv writing for 2nd sites data set.\n",
    "header = ['Card','In % of Decks','Avg Copies','Deck Win Rate','Times played']\n",
    "data = [card_name_list,column0,column1,column2,column3]\n",
    "\n",
    "with open('Hearthstone_project_data_stats.csv','w',newline='',encoding='UTF8') as f:\n",
    "    writing = csv.writer(f)\n",
    "    writing.writerow(header)\n",
    "    for n in range(0,137):\n",
    "        writing.writerow([card_name_list[n],column0[n],column1[n],column2[n],column3[n]])"
   ]
  }
 ],
 "metadata": {
  "kernelspec": {
   "display_name": "Python 3 (ipykernel)",
   "language": "python",
   "name": "python3"
  },
  "language_info": {
   "codemirror_mode": {
    "name": "ipython",
    "version": 3
   },
   "file_extension": ".py",
   "mimetype": "text/x-python",
   "name": "python",
   "nbconvert_exporter": "python",
   "pygments_lexer": "ipython3",
   "version": "3.9.12"
  }
 },
 "nbformat": 4,
 "nbformat_minor": 5
}
